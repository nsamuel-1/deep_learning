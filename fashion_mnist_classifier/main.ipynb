{
  "cells": [
    {
      "cell_type": "code",
      "execution_count": 36,
      "metadata": {
        "id": "y1UP-cHm56Ud"
      },
      "outputs": [],
      "source": [
        "import numpy as np\n",
        "import pandas as pd\n",
        "import random\n",
        "from matplotlib import pyplot as plt\n",
        "\n",
        "random.seed(42)"
      ]
    },
    {
      "cell_type": "code",
      "execution_count": 37,
      "metadata": {
        "id": "_xxrI6Jv6Ej3"
      },
      "outputs": [],
      "source": [
        "# Reading the dataset\n",
        "data = pd.read_csv('/fashion_data.csv')"
      ]
    },
    {
      "cell_type": "code",
      "execution_count": 38,
      "metadata": {
        "id": "0z_ajNTI698t"
      },
      "outputs": [],
      "source": [
        "data = np.array(data)\n",
        "m, n = data.shape\n",
        "np.random.shuffle(data) \n",
        "\n",
        "data_dev = data[0:400].T\n",
        "Y_dev = data_dev[-1]\n",
        "X_dev = data_dev[0:n-1]\n",
        "X_dev = X_dev / 255.\n",
        "\n",
        "data_train = data[400:m].T\n",
        "Y_train = data_train[-1]\n",
        "X_train = data_train[0:n-1]\n",
        "X_train = X_train / 255.\n",
        "_,m_train = X_train.shape"
      ]
    },
    {
      "cell_type": "code",
      "execution_count": 39,
      "metadata": {
        "colab": {
          "base_uri": "https://localhost:8080/"
        },
        "id": "vzdziAyP7BW5",
        "outputId": "396e15ea-da4c-4d53-db20-344a7ffb0ddb"
      },
      "outputs": [
        {
          "data": {
            "text/plain": [
              "array([8, 5, 2, ..., 0, 2, 2])"
            ]
          },
          "execution_count": 39,
          "metadata": {},
          "output_type": "execute_result"
        }
      ],
      "source": [
        "Y_train"
      ]
    },
    {
      "cell_type": "code",
      "execution_count": 40,
      "metadata": {
        "colab": {
          "base_uri": "https://localhost:8080/"
        },
        "id": "9r4x_9l57GOY",
        "outputId": "41293d77-b750-47ed-a31c-4047bb8045bd"
      },
      "outputs": [
        {
          "data": {
            "text/plain": [
              "(784, 400)"
            ]
          },
          "execution_count": 40,
          "metadata": {},
          "output_type": "execute_result"
        }
      ],
      "source": [
        "X_dev.shape"
      ]
    },
    {
      "cell_type": "code",
      "execution_count": 41,
      "metadata": {
        "colab": {
          "base_uri": "https://localhost:8080/"
        },
        "id": "fV0RR3ja7IwH",
        "outputId": "c1302473-742b-413e-af18-c5e49dcf71b2"
      },
      "outputs": [
        {
          "data": {
            "text/plain": [
              "(784, 1600)"
            ]
          },
          "execution_count": 41,
          "metadata": {},
          "output_type": "execute_result"
        }
      ],
      "source": [
        "X_train.shape"
      ]
    },
    {
      "cell_type": "code",
      "execution_count": 42,
      "metadata": {
        "colab": {
          "base_uri": "https://localhost:8080/"
        },
        "id": "23R0QtH87Ldj",
        "outputId": "3c647e7f-c0a9-483c-a7ef-c06c919d459d"
      },
      "outputs": [
        {
          "name": "stdout",
          "output_type": "stream",
          "text": [
            "2000 785\n"
          ]
        }
      ],
      "source": [
        "print(m,n)"
      ]
    },
    {
      "cell_type": "markdown",
      "metadata": {
        "id": "AENe0o_19VBE"
      },
      "source": [
        "Part 1: Building your own neural network"
      ]
    },
    {
      "cell_type": "code",
      "execution_count": 43,
      "metadata": {
        "id": "Jk6YxXde7OPL"
      },
      "outputs": [],
      "source": [
        "# define a global variable specifying the number of hidden neurons after the first layer\n",
        "num_hidden_neurons = 20"
      ]
    },
    {
      "cell_type": "code",
      "execution_count": 44,
      "metadata": {
        "id": "GD4Kprzi7QEX"
      },
      "outputs": [],
      "source": [
        "# Initialize the parameters in the neural network\n",
        "\n",
        "# W1, b1 are the matrices for the first layer\n",
        "# W2, b2 are the matrices for the second layer\n",
        "\n",
        "def init_params():\n",
        "    W1 = np.random.rand(num_hidden_neurons, X_train.shape[0]) - 0.5\n",
        "    b1 = np.random.rand(num_hidden_neurons, 1) - 0.5\n",
        "    W2 = np.random.rand(10, num_hidden_neurons) - 0.5\n",
        "    b2 = np.random.rand(10, 1) - 0.5\n",
        "    return W1, b1, W2, b2"
      ]
    },
    {
      "cell_type": "code",
      "execution_count": 45,
      "metadata": {
        "id": "YtXZxnAC7e2o"
      },
      "outputs": [],
      "source": [
        "def ReLU(Z):\n",
        "    return np.maximum(Z, 0)\n",
        "\n",
        "def ReLU_deriv(Z):\n",
        "    return Z > 0\n",
        "\n",
        "def softmax(Z):\n",
        "    A = np.exp(Z) / sum(np.exp(Z))\n",
        "    return A"
      ]
    },
    {
      "cell_type": "code",
      "execution_count": 46,
      "metadata": {
        "id": "KhBVlmu67rna"
      },
      "outputs": [],
      "source": [
        "# In the forward propagation function, X is the input (the image in vector form), and we pass all the weights and biases\n",
        "\n",
        "def forward_prop(W1, b1, W2, b2, X):\n",
        "    Z1 = W1.dot(X) + b1\n",
        "    A1 = ReLU(Z1)\n",
        "    Z2 = W2.dot(A1) + b2\n",
        "    A2 = softmax(Z2)\n",
        "    return Z1, A1, Z2, A2"
      ]
    },
    {
      "cell_type": "code",
      "execution_count": 47,
      "metadata": {
        "id": "H_drUx7w73i9"
      },
      "outputs": [],
      "source": [
        "# one hot function to convert a numeric number into a one-hot vector\n",
        "def one_hot(Y):\n",
        "    one_hot_Y = np.zeros((Y.size, Y.max() + 1))\n",
        "    one_hot_Y[np.arange(Y.size), Y] = 1\n",
        "    one_hot_Y = one_hot_Y.T\n",
        "    return one_hot_Y\n",
        "\n",
        "# performing the backward propagation\n",
        "def backward_prop(Z1, A1, Z2, A2, W1, W2, X, Y):\n",
        "    one_hot_Y = one_hot(Y)\n",
        "    dZ2 = A2 - one_hot_Y\n",
        "    dW2 = 1 / m * dZ2.dot(A1.T)\n",
        "    db2 = 1 / m * np.sum(dZ2)\n",
        "    dZ1 = W2.T.dot(dZ2) * ReLU_deriv(Z1)\n",
        "    dW1 = 1 / m * dZ1.dot(X.T)\n",
        "    db1 = 1 / m * np.sum(dZ1)\n",
        "    return dW1, db1, dW2, db2\n",
        "\n",
        "# update the parameters\n",
        "def update_params(W1, b1, W2, b2, dW1, db1, dW2, db2, alpha):\n",
        "    W1 = W1 - alpha * dW1\n",
        "    b1 = b1 - alpha * db1\n",
        "    W2 = W2 - alpha * dW2\n",
        "    b2 = b2 - alpha * db2\n",
        "    return W1, b1, W2, b2"
      ]
    },
    {
      "cell_type": "code",
      "execution_count": 48,
      "metadata": {
        "id": "9eV8PFVV8Loc"
      },
      "outputs": [],
      "source": [
        "# Implement the helper function. We need to convert the softmax output into a numeric label\n",
        "# This is done through get_predictions function\n",
        "def get_predictions(A2):\n",
        "    return np.argmax(A2, axis=0)\n",
        "\n",
        "# We also want to have a simple function to compute the accuracy\n",
        "def get_accuracy(predictions, Y):\n",
        "    return np.sum(predictions == Y) / Y.size\n",
        "\n",
        "# implement gradient descent\n",
        "def gradient_descent(X, Y, alpha, iterations):\n",
        "    W1, b1, W2, b2 = init_params()\n",
        "    for i in range(iterations):\n",
        "        Z1, A1, Z2, A2 = forward_prop(W1, b1, W2, b2, X)\n",
        "        dW1, db1, dW2, db2 = backward_prop(Z1, A1, Z2, A2, W1, W2, X, Y)\n",
        "        W1, b1, W2, b2 = update_params(W1, b1, W2, b2, dW1, db1, dW2, db2, alpha)\n",
        "        if i % 10 == 0:\n",
        "            print(\"Iteration: \", i)\n",
        "            predictions = get_predictions(A2)\n",
        "            print(get_accuracy(predictions, Y))\n",
        "    return W1, b1, W2, b2"
      ]
    },
    {
      "cell_type": "code",
      "execution_count": 49,
      "metadata": {
        "colab": {
          "base_uri": "https://localhost:8080/"
        },
        "id": "t-uwdvl_8eNd",
        "outputId": "56071473-7a5c-4a25-e7b7-9f31b35b9b22"
      },
      "outputs": [
        {
          "name": "stdout",
          "output_type": "stream",
          "text": [
            "Iteration:  0\n",
            "0.101875\n",
            "Iteration:  10\n",
            "0.38\n",
            "Iteration:  20\n",
            "0.49625\n",
            "Iteration:  30\n",
            "0.56125\n",
            "Iteration:  40\n",
            "0.59625\n",
            "Iteration:  50\n",
            "0.624375\n",
            "Iteration:  60\n",
            "0.65375\n",
            "Iteration:  70\n",
            "0.675\n",
            "Iteration:  80\n",
            "0.685\n",
            "Iteration:  90\n",
            "0.69625\n",
            "Iteration:  100\n",
            "0.7075\n",
            "Iteration:  110\n",
            "0.7125\n",
            "Iteration:  120\n",
            "0.719375\n",
            "Iteration:  130\n",
            "0.724375\n",
            "Iteration:  140\n",
            "0.730625\n",
            "Iteration:  150\n",
            "0.733125\n",
            "Iteration:  160\n",
            "0.738125\n",
            "Iteration:  170\n",
            "0.74375\n",
            "Iteration:  180\n",
            "0.748125\n",
            "Iteration:  190\n",
            "0.75375\n",
            "Iteration:  200\n",
            "0.750625\n",
            "Iteration:  210\n",
            "0.75125\n",
            "Iteration:  220\n",
            "0.75\n",
            "Iteration:  230\n",
            "0.7575\n",
            "Iteration:  240\n",
            "0.763125\n",
            "Iteration:  250\n",
            "0.76875\n",
            "Iteration:  260\n",
            "0.77125\n",
            "Iteration:  270\n",
            "0.77625\n",
            "Iteration:  280\n",
            "0.77875\n",
            "Iteration:  290\n",
            "0.78\n",
            "Iteration:  300\n",
            "0.785\n",
            "Iteration:  310\n",
            "0.78625\n",
            "Iteration:  320\n",
            "0.78875\n",
            "Iteration:  330\n",
            "0.795\n",
            "Iteration:  340\n",
            "0.796875\n",
            "Iteration:  350\n",
            "0.79875\n",
            "Iteration:  360\n",
            "0.801875\n",
            "Iteration:  370\n",
            "0.805625\n",
            "Iteration:  380\n",
            "0.808125\n",
            "Iteration:  390\n",
            "0.81\n",
            "Iteration:  400\n",
            "0.81125\n",
            "Iteration:  410\n",
            "0.8125\n",
            "Iteration:  420\n",
            "0.814375\n",
            "Iteration:  430\n",
            "0.81625\n",
            "Iteration:  440\n",
            "0.81875\n",
            "Iteration:  450\n",
            "0.8225\n",
            "Iteration:  460\n",
            "0.8225\n",
            "Iteration:  470\n",
            "0.82375\n",
            "Iteration:  480\n",
            "0.825625\n",
            "Iteration:  490\n",
            "0.825\n"
          ]
        }
      ],
      "source": [
        "W1, b1, W2, b2 = gradient_descent(X_train, Y_train, 0.10, 500)"
      ]
    },
    {
      "cell_type": "code",
      "execution_count": 50,
      "metadata": {
        "id": "5_WaM_rO8iR_"
      },
      "outputs": [],
      "source": [
        "def make_predictions(X, W1, b1, W2, b2):\n",
        "    _, _, _, A2 = forward_prop(W1, b1, W2, b2, X)\n",
        "    predictions = get_predictions(A2)\n",
        "    return predictions"
      ]
    },
    {
      "cell_type": "code",
      "execution_count": 51,
      "metadata": {
        "colab": {
          "base_uri": "https://localhost:8080/"
        },
        "id": "576NsHIJ8wsR",
        "outputId": "08b348df-0daa-4bd0-cf81-9b84ea6222cd"
      },
      "outputs": [
        {
          "data": {
            "text/plain": [
              "0.745"
            ]
          },
          "execution_count": 51,
          "metadata": {},
          "output_type": "execute_result"
        }
      ],
      "source": [
        "dev_predictions = make_predictions(X_dev, W1, b1, W2, b2)\n",
        "get_accuracy(dev_predictions, Y_dev)"
      ]
    },
    {
      "cell_type": "code",
      "execution_count": 52,
      "metadata": {
        "colab": {
          "base_uri": "https://localhost:8080/",
          "height": 1000
        },
        "id": "Zc1nN24O80d3",
        "outputId": "6f3edef9-45f7-406d-c6c2-8ecbf7dda83a"
      },
      "outputs": [
        {
          "name": "stdout",
          "output_type": "stream",
          "text": [
            "Prediction:  [8]\n",
            "Label:  8\n"
          ]
        },
        {
          "data": {
            "image/png": "[encoded data removed]",
            "text/plain": [
              "<Figure size 640x480 with 1 Axes>"
            ]
          },
          "metadata": {},
          "output_type": "display_data"
        },
        {
          "name": "stdout",
          "output_type": "stream",
          "text": [
            "Prediction:  [5]\n",
            "Label:  5\n"
          ]
        },
        {
          "data": {
            "image/png": "[encoded data removed]",
            "text/plain": [
              "<Figure size 640x480 with 1 Axes>"
            ]
          },
          "metadata": {},
          "output_type": "display_data"
        },
        {
          "name": "stdout",
          "output_type": "stream",
          "text": [
            "Prediction:  [2]\n",
            "Label:  2\n"
          ]
        },
        {
          "data": {
            "image/png": "[encoded data removed]",
            "text/plain": [
              "<Figure size 640x480 with 1 Axes>"
            ]
          },
          "metadata": {},
          "output_type": "display_data"
        },
        {
          "name": "stdout",
          "output_type": "stream",
          "text": [
            "Prediction:  [0]\n",
            "Label:  0\n"
          ]
        },
        {
          "data": {
            "image/png": "[encoded data removed]",
            "text/plain": [
              "<Figure size 640x480 with 1 Axes>"
            ]
          },
          "metadata": {},
          "output_type": "display_data"
        }
      ],
      "source": [
        "def test_prediction(index, W1, b1, W2, b2):\n",
        "    current_image = X_train[:, index, None]\n",
        "    prediction = make_predictions(X_train[:, index, None], W1, b1, W2, b2)\n",
        "    label = Y_train[index]\n",
        "    print(\"Prediction: \", prediction)\n",
        "    print(\"Label: \", label)\n",
        "\n",
        "    current_image = current_image.reshape((28, 28)) * 255\n",
        "    plt.gray()\n",
        "    plt.imshow(current_image, interpolation='nearest')\n",
        "    plt.show()\n",
        "\n",
        "test_prediction(0, W1, b1, W2, b2)\n",
        "test_prediction(1, W1, b1, W2, b2)\n",
        "test_prediction(2, W1, b1, W2, b2)\n",
        "test_prediction(50, W1, b1, W2, b2)"
      ]
    },
    {
      "cell_type": "markdown",
      "metadata": {
        "id": "bA4fnJDu9Q1k"
      },
      "source": [
        "Part 2: Error Analysis and Performance Improvements"
      ]
    },
    {
      "cell_type": "code",
      "execution_count": 53,
      "metadata": {
        "id": "rCllpgBl9TIk"
      },
      "outputs": [],
      "source": [
        "# Model 1 - Leaky ReLU\n",
        "\n",
        "def LeakyReLU(Z, alpha=0.01):\n",
        "    return np.where(Z > 0, Z, Z * alpha)\n",
        "\n",
        "def LeakyReLU_deriv(Z, alpha=0.01):\n",
        "    return np.where(Z > 0, 1, alpha)\n",
        "\n",
        "# Update forward_prop to use LeakyReLU\n",
        "def forward_prop(W1, b1, W2, b2, X):\n",
        "    Z1 = W1.dot(X) + b1\n",
        "    A1 = LeakyReLU(Z1)\n",
        "    Z2 = W2.dot(A1) + b2\n",
        "    A2 = softmax(Z2)\n",
        "    return Z1, A1, Z2, A2"
      ]
    },
    {
      "cell_type": "markdown",
      "metadata": {
        "id": "EE2E21u4-HVa"
      },
      "source": [
        "While Leaky ReLU is similar to ReLU, but instead of returning zero for negative inputs, it returns a small negative value. This prevents neurons from dying during training."
      ]
    },
    {
      "cell_type": "code",
      "execution_count": 54,
      "metadata": {
        "colab": {
          "base_uri": "https://localhost:8080/"
        },
        "id": "P2c5nCzs-l6d",
        "outputId": "7ca651f3-12e4-441f-c8fd-62af64a24e19"
      },
      "outputs": [
        {
          "name": "stdout",
          "output_type": "stream",
          "text": [
            "Iteration:  0\n",
            "0.10375\n",
            "Iteration:  10\n",
            "0.145\n",
            "Iteration:  20\n",
            "0.17875\n",
            "Iteration:  30\n",
            "0.20875\n",
            "Iteration:  40\n",
            "0.243125\n",
            "Iteration:  50\n",
            "0.27125\n",
            "Iteration:  60\n",
            "0.300625\n",
            "Iteration:  70\n",
            "0.319375\n",
            "Iteration:  80\n",
            "0.343125\n",
            "Iteration:  90\n",
            "0.3675\n",
            "Iteration:  100\n",
            "0.4\n",
            "Iteration:  110\n",
            "0.425625\n",
            "Iteration:  120\n",
            "0.439375\n",
            "Iteration:  130\n",
            "0.454375\n",
            "Iteration:  140\n",
            "0.47\n",
            "Iteration:  150\n",
            "0.484375\n",
            "Iteration:  160\n",
            "0.496875\n",
            "Iteration:  170\n",
            "0.50375\n",
            "Iteration:  180\n",
            "0.515625\n",
            "Iteration:  190\n",
            "0.525\n",
            "Iteration:  200\n",
            "0.533125\n",
            "Iteration:  210\n",
            "0.53625\n",
            "Iteration:  220\n",
            "0.54375\n",
            "Iteration:  230\n",
            "0.549375\n",
            "Iteration:  240\n",
            "0.55875\n",
            "Iteration:  250\n",
            "0.565\n",
            "Iteration:  260\n",
            "0.569375\n",
            "Iteration:  270\n",
            "0.573125\n",
            "Iteration:  280\n",
            "0.576875\n",
            "Iteration:  290\n",
            "0.5825\n",
            "Iteration:  300\n",
            "0.5875\n",
            "Iteration:  310\n",
            "0.59375\n",
            "Iteration:  320\n",
            "0.594375\n",
            "Iteration:  330\n",
            "0.59875\n",
            "Iteration:  340\n",
            "0.600625\n",
            "Iteration:  350\n",
            "0.603125\n",
            "Iteration:  360\n",
            "0.60625\n",
            "Iteration:  370\n",
            "0.609375\n",
            "Iteration:  380\n",
            "0.613125\n",
            "Iteration:  390\n",
            "0.61625\n",
            "Iteration:  400\n",
            "0.619375\n",
            "Iteration:  410\n",
            "0.620625\n",
            "Iteration:  420\n",
            "0.624375\n",
            "Iteration:  430\n",
            "0.628125\n",
            "Iteration:  440\n",
            "0.63125\n",
            "Iteration:  450\n",
            "0.634375\n",
            "Iteration:  460\n",
            "0.635625\n",
            "Iteration:  470\n",
            "0.63625\n",
            "Iteration:  480\n",
            "0.63875\n",
            "Iteration:  490\n",
            "0.6425\n",
            "Iteration:  0\n",
            "0.105625\n",
            "Iteration:  10\n",
            "0.236875\n",
            "Iteration:  20\n",
            "0.42\n",
            "Iteration:  30\n",
            "0.52\n",
            "Iteration:  40\n",
            "0.574375\n",
            "Iteration:  50\n",
            "0.608125\n",
            "Iteration:  60\n",
            "0.623125\n",
            "Iteration:  70\n",
            "0.663125\n",
            "Iteration:  80\n",
            "0.69125\n",
            "Iteration:  90\n",
            "0.723125\n",
            "Iteration:  100\n",
            "0.71875\n",
            "Iteration:  110\n",
            "0.7175\n",
            "Iteration:  120\n",
            "0.728125\n",
            "Iteration:  130\n",
            "0.733125\n",
            "Iteration:  140\n",
            "0.7425\n",
            "Iteration:  150\n",
            "0.748125\n",
            "Iteration:  160\n",
            "0.765\n",
            "Iteration:  170\n",
            "0.769375\n",
            "Iteration:  180\n",
            "0.766875\n",
            "Iteration:  190\n",
            "0.76\n",
            "Iteration:  200\n",
            "0.76125\n",
            "Iteration:  210\n",
            "0.7925\n",
            "Iteration:  220\n",
            "0.791875\n",
            "Iteration:  230\n",
            "0.79\n",
            "Iteration:  240\n",
            "0.79875\n",
            "Iteration:  250\n",
            "0.809375\n",
            "Iteration:  260\n",
            "0.815\n",
            "Iteration:  270\n",
            "0.805\n",
            "Iteration:  280\n",
            "0.815\n",
            "Iteration:  290\n",
            "0.82875\n",
            "Iteration:  300\n",
            "0.83875\n",
            "Iteration:  310\n",
            "0.84625\n",
            "Iteration:  320\n",
            "0.85625\n",
            "Iteration:  330\n",
            "0.840625\n",
            "Iteration:  340\n",
            "0.854375\n",
            "Iteration:  350\n",
            "0.8575\n",
            "Iteration:  360\n",
            "0.8275\n",
            "Iteration:  370\n",
            "0.855\n",
            "Iteration:  380\n",
            "0.865\n",
            "Iteration:  390\n",
            "0.865\n",
            "Iteration:  400\n",
            "0.86875\n",
            "Iteration:  410\n",
            "0.87875\n",
            "Iteration:  420\n",
            "0.851875\n",
            "Iteration:  430\n",
            "0.8775\n",
            "Iteration:  440\n",
            "0.87375\n",
            "Iteration:  450\n",
            "0.86625\n",
            "Iteration:  460\n",
            "0.871875\n",
            "Iteration:  470\n",
            "0.8775\n",
            "Iteration:  480\n",
            "0.8625\n",
            "Iteration:  490\n",
            "0.883125\n"
          ]
        }
      ],
      "source": [
        "# Model 2 - Learning Rate\n",
        "\n",
        "# Train with a smaller learning rate\n",
        "W1, b1, W2, b2 = gradient_descent(X_train, Y_train, 0.01, 500)\n",
        "\n",
        "# Train with a larger learning rate\n",
        "W1, b1, W2, b2 = gradient_descent(X_train, Y_train, 0.5, 500)"
      ]
    },
    {
      "cell_type": "markdown",
      "metadata": {
        "id": "lcEL-N3-GvIZ"
      },
      "source": [
        "The learning rate impacts how quicly a model adapts to a problem. A high learning rate can cause the model to converge too quicly while a learning rate that's too low can result in slow learning or inability to learn\n"
      ]
    },
    {
      "cell_type": "code",
      "execution_count": 55,
      "metadata": {
        "id": "B0zciCnm_lgE"
      },
      "outputs": [],
      "source": [
        "# Model 3 - L2 Regularization\n",
        "\n",
        "def backward_prop(Z1, A1, Z2, A2, W1, W2, X, Y, lambda_reg=0.01):\n",
        "    one_hot_Y = one_hot(Y)\n",
        "    dZ2 = A2 - one_hot_Y\n",
        "    dW2 = 1 / m * dZ2.dot(A1.T) + (lambda_reg / m) * W2\n",
        "    db2 = 1 / m * np.sum(dZ2)\n",
        "    dZ1 = W2.T.dot(dZ2) * ReLU_deriv(Z1)\n",
        "    dW1 = 1 / m * dZ1.dot(X.T) + (lambda_reg / m) * W1\n",
        "    db1 = 1 / m * np.sum(dZ1)\n",
        "    return dW1, db1, dW2, db2"
      ]
    },
    {
      "cell_type": "markdown",
      "metadata": {
        "id": "hqQBVEVf_zxx"
      },
      "source": [
        "L2 Regularization reduces overfitting, which improves generalization. This is done by reducing the weights to be small but not making them 0."
      ]
    },
    {
      "cell_type": "code",
      "execution_count": 55,
      "metadata": {
        "id": "k6-BnStGLu7r"
      },
      "outputs": [],
      "source": []
    }
  ],
  "metadata": {
    "colab": {
      "provenance": []
    },
    "kernelspec": {
      "display_name": "Python 3",
      "name": "python3"
    },
    "language_info": {
      "name": "python"
    }
  },
  "nbformat": 4,
  "nbformat_minor": 0
}
